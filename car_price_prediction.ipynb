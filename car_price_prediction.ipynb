# Car Price Prediction Project

import pandas as pd
import numpy as np
import seaborn as sns
import matplotlib.pyplot as plt
from sklearn.model_selection import train_test_split
from sklearn.linear_model import LinearRegression
from sklearn.ensemble import RandomForestRegressor
from sklearn.metrics import r2_score, mean_absolute_error

df = pd.read_csv('car data.csv')  # or 'dataset.csv'
df.head()

df['Current Year'] = 2025
df['Car Age'] = df['Current Year'] - df['Year']
df.drop(['Year', 'Car_Name', 'Current Year'], axis=1, inplace=True)

# Encoding categorical features
df = pd.get_dummies(df, drop_first=True)

X = df.drop('Selling_Price', axis=1)
y = df['Selling_Price']

X_train, X_test, y_train, y_test = train_test_split(X, y, test_size=0.2, random_state=42)

lr_model = LinearRegression()
lr_model.fit(X_train, y_train)
lr_preds = lr_model.predict(X_test)

rf_model = RandomForestRegressor()
rf_model.fit(X_train, y_train)
rf_preds = rf_model.predict(X_test)

print("Linear Regression R2 Score:", r2_score(y_test, lr_preds))
print("Random Forest R2 Score:", r2_score(y_test, rf_preds))

print("Random Forest MAE:", mean_absolute_error(y_test, rf_preds))

plt.scatter(y_test, rf_preds)
plt.xlabel("Actual Price")
plt.ylabel("Predicted Price")
plt.title("Actual vs Predicted Car Prices")
plt.show()
